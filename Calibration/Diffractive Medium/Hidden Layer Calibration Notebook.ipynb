{
 "cells": [
  {
   "cell_type": "markdown",
   "metadata": {},
   "source": [
    "# Hidden Layer Calibration\n",
    "\n",
    "This notebook main purpose is to guide the user through the process of calibrating the OELM system starting from the 4f system imaging the DMD screen up to the generation of the speckle pattern. We assum the beam incident on the DMD screen is correctly calibrated and depart from this point onward. The iris used in this procedure are the same used in the calibration of the beam prior to the DMD.\n",
    "\n",
    "As a reference beam, we use the reflection of a small circle at the center of the DMD screen. "
   ]
  },
  {
   "cell_type": "markdown",
   "metadata": {},
   "source": [
    "#### Step 1:\n",
    "\n",
    "Place mask on the DMD screen."
   ]
  },
  {
   "cell_type": "code",
   "execution_count": 1,
   "metadata": {},
   "outputs": [
    {
     "name": "stdout",
     "output_type": "stream",
     "text": [
      "Loading library: G:\\ALP-4.2\\ALP-4.2 high-speed API/x64/alpV42.dll\n",
      "DMD found, resolution = 1024 x 768.\n"
     ]
    },
    {
     "data": {
      "text/plain": [
       "<ALP4.ALP4 at 0x1f57cfc16d0>"
      ]
     },
     "execution_count": 1,
     "metadata": {},
     "output_type": "execute_result"
    },
    {
     "data": {
      "application/vnd.jupyter.widget-view+json": {
       "model_id": "b6e7b13eb3e74ffa97a53694117ac522",
       "version_major": 2,
       "version_minor": 0
      },
      "image/png": "[encoded data removed]",
      "text/html": [
       "\n",
       "            <div style=\"display: inline-block;\">\n",
       "                <div class=\"jupyter-widgets widget-label\" style=\"text-align: center;\">\n",
       "                    Figure\n",
       "                </div>\n",
       "                <img src='data:image/png;base64,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' width=640.0/>\n",
       "            </div>\n",
       "        "
      ],
      "text/plain": [
       "Canvas(toolbar=Toolbar(toolitems=[('Home', 'Reset original view', 'home', 'home'), ('Back', 'Back to previous …"
      ]
     },
     "metadata": {},
     "output_type": "display_data"
    }
   ],
   "source": [
    "from matplotlib.pyplot import *\n",
    "%matplotlib widget\n",
    "\n",
    "import sys\n",
    "sys.path.append(\"../../../Device-Controllers/\")\n",
    "\n",
    "import DMD\n",
    "\n",
    "dmd_calibration_mask = DMD.CircleMask()\n",
    "\n",
    "fig, axs = subplots(1)\n",
    "axs.imshow(dmd_calibration_mask[0])\n",
    "\n",
    "dmd = DMD.InitiateMasterMode()\n",
    "\n",
    "DMD.AllocateMasks(dmd_calibration_mask,\n",
    "                  dmd,\n",
    "                  pictureTime=10000,\n",
    "                  illuminationTime=10000,\n",
    "                  synchPulseWidth=100,\n",
    "                  synchDelay=0)"
   ]
  },
  {
   "cell_type": "code",
   "execution_count": 2,
   "metadata": {},
   "outputs": [],
   "source": [
    "dmd.Run()"
   ]
  },
  {
   "cell_type": "markdown",
   "metadata": {},
   "source": [
    "#### Step 2:\n",
    "\n",
    "Without the 4f system, place two previously height calibrated iris (one close to the DMD another far away) such that the beam passes through the center of both of them. The placement of the iris must make the center be aligned with the beam in the horizontal direction. To correct the height of the beam with the height of the iris align the DMD reflection height.\n",
    "\n",
    "When aligned, you may remove the first iris as it will no longer be required for the subsequent calibrations."
   ]
  },
  {
   "cell_type": "markdown",
   "metadata": {},
   "source": [
    "#### Step 3:\n",
    "\n",
    "With the 4f system previously calibrated and mounted on cages (to preserve the 4f characteristic) place it at the focal distance of the first lens away from the DMD mask. Alternatively, you can calibrate a camera with the cages such that the distance the first lens is placed is the one maximizing the DMD screen resolution.\n",
    "\n",
    "Having placed the first lens you must guarantee the beam passes through the center of the lens (both horizontally and vertically). There are alignment accessories to be used with cages which point the center of the lens.\n",
    "\n",
    "The second lens must be placed such that the center of the beam passes through the center of the lens and consequently should also go through the center of the previously placed iris."
   ]
  },
  {
   "cell_type": "markdown",
   "metadata": {},
   "source": [
    "#### Step 4:\n",
    "\n",
    "Since the DMD does not send a beam aligned with the holes in the table, we use a system of at least 2 mirrors to realign the beam with the iris.\n",
    "\n",
    "Place two mirrors reflecting the beam and realigning it with a line of holes using the calibrated iris mounted along a common line (on close to the last mirror and another far). Move the mirrors until the beam goes through the center of both iris."
   ]
  },
  {
   "cell_type": "markdown",
   "metadata": {},
   "source": [
    "#### Step 5:\n",
    "\n",
    "With the beam aligned, place the microscope objective in a position maintaining the alignement with the iris. Move the base of the post holder to center the closest iris and use the angle to align the furthest iris. "
   ]
  },
  {
   "cell_type": "markdown",
   "metadata": {},
   "source": [
    "#### Step 6:\n",
    "\n",
    "In a cage place the second lens after the microscopes objective such that the beam goes through the center of the calibrated iris.\n",
    "\n",
    "Note: The diffusive medium is supposed to be placed in between the microscope objective (at the focus) and the second lens. Since aligning with the speckle is not feasible we keep the diffusive material out for now and fix both the objective and the lens to the table. After aligning we place the diffusive medium inbetween and mounted on the cage between them. In case you have parts to align after the second lens we recommend leaving the diffractive medium out for now, align the rest of the system and then place the medium."
   ]
  },
  {
   "cell_type": "code",
   "execution_count": null,
   "metadata": {},
   "outputs": [],
   "source": []
  },
  {
   "cell_type": "code",
   "execution_count": null,
   "metadata": {},
   "outputs": [],
   "source": []
  },
  {
   "cell_type": "code",
   "execution_count": null,
   "metadata": {},
   "outputs": [],
   "source": []
  },
  {
   "cell_type": "code",
   "execution_count": null,
   "metadata": {},
   "outputs": [],
   "source": []
  },
  {
   "cell_type": "code",
   "execution_count": null,
   "metadata": {},
   "outputs": [],
   "source": []
  },
  {
   "cell_type": "markdown",
   "metadata": {},
   "source": []
  },
  {
   "cell_type": "code",
   "execution_count": 4,
   "metadata": {},
   "outputs": [
    {
     "name": "stdout",
     "output_type": "stream",
     "text": [
      "-> SLM is active with the state mask.\n",
      "\n"
     ]
    }
   ],
   "source": []
  },
  {
   "cell_type": "code",
   "execution_count": null,
   "metadata": {},
   "outputs": [],
   "source": []
  },
  {
   "cell_type": "code",
   "execution_count": null,
   "metadata": {},
   "outputs": [],
   "source": []
  }
 ],
 "metadata": {
  "kernelspec": {
   "display_name": "OC_Experimental",
   "language": "python",
   "name": "python3"
  },
  "language_info": {
   "codemirror_mode": {
    "name": "ipython",
    "version": 3
   },
   "file_extension": ".py",
   "mimetype": "text/x-python",
   "name": "python",
   "nbconvert_exporter": "python",
   "pygments_lexer": "ipython3",
   "version": "3.8.16"
  },
  "orig_nbformat": 4
 },
 "nbformat": 4,
 "nbformat_minor": 2
}
